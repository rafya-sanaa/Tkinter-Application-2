{
 "cells": [
  {
   "cell_type": "code",
   "execution_count": null,
   "metadata": {},
   "outputs": [],
   "source": [
    "from tkinter import * \n",
    "import webbrowser # ouvrire des pages web\n",
    "\n",
    "def open_github():\n",
    "    webbrowser.open_new(\"https://github.com/rafya-sanaa?tab=repositories\")\n",
    "\n",
    "#Créer une première fenêtre\n",
    "fenetre = Tk()\n",
    "\n",
    "#Personnaliser la fenêtre\n",
    "fenetre.title(\"Our Application\") #titre\n",
    "fenetre.geometry(\"700x400\") #taille\n",
    "fenetre.iconbitmap(\"2.ico\") #importer une icone à la fenêtre\n",
    "fenetre.config(background='#D4E6F1')#couleur d'arrière plan\n",
    "\n",
    "\n",
    "#Ajouter du texte\n",
    "#indiquer l'emplacement du texte, son contenu et le personnaliser\n",
    "title=Label(fenetre, text=\"Welcome Big data students\", font=(\"Lucida\",40), bg='#D4E6F1')\n",
    "#Mettre le texte en centre\n",
    "title.pack(expand='YES')\n",
    "\n",
    "#Ajouter un bouton\n",
    "github_button=Button(fenetre,text=\"Obtenir les scripts Python\",font=(\"Courrier\",25), bg='white',fg='#154360', command=open_github)\n",
    "github_button.pack(expand='YES')\n",
    "\n",
    "#afficher la fenêtre\n",
    "fenetre.mainloop()\n"
   ]
  },
  {
   "cell_type": "code",
   "execution_count": null,
   "metadata": {},
   "outputs": [],
   "source": []
  },
  {
   "cell_type": "code",
   "execution_count": null,
   "metadata": {},
   "outputs": [],
   "source": []
  }
 ],
 "metadata": {
  "kernelspec": {
   "display_name": "Python 3",
   "language": "python",
   "name": "python3"
  },
  "language_info": {
   "codemirror_mode": {
    "name": "ipython",
    "version": 3
   },
   "file_extension": ".py",
   "mimetype": "text/x-python",
   "name": "python",
   "nbconvert_exporter": "python",
   "pygments_lexer": "ipython3",
   "version": "3.8.5"
  }
 },
 "nbformat": 4,
 "nbformat_minor": 4
}
